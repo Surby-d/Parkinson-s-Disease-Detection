{
  "nbformat": 4,
  "nbformat_minor": 0,
  "metadata": {
    "colab": {
      "name": "Parkinson.ipynb",
      "provenance": [],
      "collapsed_sections": []
    },
    "kernelspec": {
      "name": "python3",
      "display_name": "Python 3"
    },
    "accelerator": "GPU"
  },
  "cells": [
    {
      "cell_type": "code",
      "metadata": {
        "id": "Ar3IsPJ0jQ7K"
      },
      "source": [
        "#importing libraries\n",
        "import pandas as pd\n",
        "from tensorflow.keras.optimizers import RMSprop,Adam,Adagrad,SGD\n",
        "import numpy as np\n",
        "from tensorflow.keras.preprocessing.image import ImageDataGenerator\n",
        "import os\n",
        "import seaborn as sns\n",
        "import matplotlib.pyplot as plt\n",
        "from keras.layers.convolutional import Conv2D, MaxPooling2D\n",
        "from keras.models import Sequential\n",
        "from tensorflow.keras import layers\n",
        "from tensorflow.keras import Model\n",
        "from keras import Model\n",
        "from os import getcwd\n",
        "from keras.layers import Dense, Activation, BatchNormalization\n",
        "import tensorflow as tf"
      ],
      "execution_count": 1,
      "outputs": []
    },
    {
      "cell_type": "markdown",
      "metadata": {
        "id": "iPGDV6SSISbs"
      },
      "source": [
        "##### Kaggle dataset import"
      ]
    },
    {
      "cell_type": "code",
      "metadata": {
        "colab": {
          "base_uri": "https://localhost:8080/"
        },
        "id": "YD6Qia-oCxNT",
        "outputId": "1316cf86-7470-4389-b196-1435ad915a06"
      },
      "source": [
        "!pip install ipython-autotime"
      ],
      "execution_count": 2,
      "outputs": [
        {
          "output_type": "stream",
          "text": [
            "Collecting ipython-autotime\n",
            "  Downloading ipython_autotime-0.3.1-py2.py3-none-any.whl (6.8 kB)\n",
            "Requirement already satisfied: ipython in /usr/local/lib/python3.7/dist-packages (from ipython-autotime) (5.5.0)\n",
            "Requirement already satisfied: traitlets>=4.2 in /usr/local/lib/python3.7/dist-packages (from ipython->ipython-autotime) (5.0.5)\n",
            "Requirement already satisfied: setuptools>=18.5 in /usr/local/lib/python3.7/dist-packages (from ipython->ipython-autotime) (57.2.0)\n",
            "Requirement already satisfied: pexpect in /usr/local/lib/python3.7/dist-packages (from ipython->ipython-autotime) (4.8.0)\n",
            "Requirement already satisfied: pickleshare in /usr/local/lib/python3.7/dist-packages (from ipython->ipython-autotime) (0.7.5)\n",
            "Requirement already satisfied: pygments in /usr/local/lib/python3.7/dist-packages (from ipython->ipython-autotime) (2.6.1)\n",
            "Requirement already satisfied: prompt-toolkit<2.0.0,>=1.0.4 in /usr/local/lib/python3.7/dist-packages (from ipython->ipython-autotime) (1.0.18)\n",
            "Requirement already satisfied: simplegeneric>0.8 in /usr/local/lib/python3.7/dist-packages (from ipython->ipython-autotime) (0.8.1)\n",
            "Requirement already satisfied: decorator in /usr/local/lib/python3.7/dist-packages (from ipython->ipython-autotime) (4.4.2)\n",
            "Requirement already satisfied: wcwidth in /usr/local/lib/python3.7/dist-packages (from prompt-toolkit<2.0.0,>=1.0.4->ipython->ipython-autotime) (0.2.5)\n",
            "Requirement already satisfied: six>=1.9.0 in /usr/local/lib/python3.7/dist-packages (from prompt-toolkit<2.0.0,>=1.0.4->ipython->ipython-autotime) (1.15.0)\n",
            "Requirement already satisfied: ipython-genutils in /usr/local/lib/python3.7/dist-packages (from traitlets>=4.2->ipython->ipython-autotime) (0.2.0)\n",
            "Requirement already satisfied: ptyprocess>=0.5 in /usr/local/lib/python3.7/dist-packages (from pexpect->ipython->ipython-autotime) (0.7.0)\n",
            "Installing collected packages: ipython-autotime\n",
            "Successfully installed ipython-autotime-0.3.1\n"
          ],
          "name": "stdout"
        }
      ]
    },
    {
      "cell_type": "code",
      "metadata": {
        "id": "ytFWFdr_9pZ5"
      },
      "source": [
        " pip install -q kaggle"
      ],
      "execution_count": 3,
      "outputs": []
    },
    {
      "cell_type": "code",
      "metadata": {
        "colab": {
          "resources": {
            "http://localhost:8080/nbextensions/google.colab/files.js": {
              "data": "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",
              "ok": true,
              "headers": [
                [
                  "content-type",
                  "application/javascript"
                ]
              ],
              "status": 200,
              "status_text": ""
            }
          },
          "base_uri": "https://localhost:8080/",
          "height": 89
        },
        "id": "-BysTl7tJ3ZH",
        "outputId": "48eae84d-d99d-433d-d8c7-d0ad7f785894"
      },
      "source": [
        "from google.colab import files\n",
        "\n",
        "files.upload()"
      ],
      "execution_count": 13,
      "outputs": [
        {
          "output_type": "display_data",
          "data": {
            "text/html": [
              "\n",
              "     <input type=\"file\" id=\"files-48ab9d75-a95d-4d28-823a-e1f446270645\" name=\"files[]\" multiple disabled\n",
              "        style=\"border:none\" />\n",
              "     <output id=\"result-48ab9d75-a95d-4d28-823a-e1f446270645\">\n",
              "      Upload widget is only available when the cell has been executed in the\n",
              "      current browser session. Please rerun this cell to enable.\n",
              "      </output>\n",
              "      <script src=\"/nbextensions/google.colab/files.js\"></script> "
            ],
            "text/plain": [
              "<IPython.core.display.HTML object>"
            ]
          },
          "metadata": {
            "tags": []
          }
        },
        {
          "output_type": "stream",
          "text": [
            "Saving kaggle.json to kaggle.json\n"
          ],
          "name": "stdout"
        },
        {
          "output_type": "execute_result",
          "data": {
            "text/plain": [
              "{'kaggle.json': b'{\"username\":\"kushagra180\",\"key\":\"d26c61c002f54027c1228ad3ba86bcb4\"}'}"
            ]
          },
          "metadata": {
            "tags": []
          },
          "execution_count": 13
        }
      ]
    },
    {
      "cell_type": "code",
      "metadata": {
        "id": "5SZeNjCwJ7k2",
        "colab": {
          "base_uri": "https://localhost:8080/"
        },
        "outputId": "c26b292a-fd5d-407c-c55c-405f146cb3a6"
      },
      "source": [
        "! mkdir ~/.kaggle"
      ],
      "execution_count": 14,
      "outputs": [
        {
          "output_type": "stream",
          "text": [
            "mkdir: cannot create directory ‘/root/.kaggle’: File exists\n"
          ],
          "name": "stdout"
        }
      ]
    },
    {
      "cell_type": "code",
      "metadata": {
        "id": "d-YBqEYpKBpl"
      },
      "source": [
        "! cp kaggle.json ~/.kaggle/"
      ],
      "execution_count": 15,
      "outputs": []
    },
    {
      "cell_type": "code",
      "metadata": {
        "id": "FjP15q8RKFVu"
      },
      "source": [
        "! chmod 600 ~/.kaggle/kaggle.json"
      ],
      "execution_count": 16,
      "outputs": []
    },
    {
      "cell_type": "code",
      "metadata": {
        "colab": {
          "base_uri": "https://localhost:8080/"
        },
        "id": "QVs-e652KHpv",
        "outputId": "309632a0-ab9b-43e9-b8c5-7b1814eda94b"
      },
      "source": [
        "! kaggle datasets download -d kmader/parkinsons-drawings"
      ],
      "execution_count": 17,
      "outputs": [
        {
          "output_type": "stream",
          "text": [
            "Downloading parkinsons-drawings.zip to /content\n",
            " 84% 35.0M/41.4M [00:00<00:00, 27.6MB/s]\n",
            "100% 41.4M/41.4M [00:00<00:00, 60.8MB/s]\n"
          ],
          "name": "stdout"
        }
      ]
    },
    {
      "cell_type": "code",
      "metadata": {
        "id": "OGxt9ysi9y_l",
        "colab": {
          "base_uri": "https://localhost:8080/"
        },
        "outputId": "70682f58-6fd7-4a8d-9554-51f592f0aed0"
      },
      "source": [
        "!unzip \"/content/parkinsons-drawings.zip\""
      ],
      "execution_count": 18,
      "outputs": [
        {
          "output_type": "stream",
          "text": [
            "Archive:  /content/parkinsons-drawings.zip\n",
            "  inflating: drawings/spiral/testing/healthy/V01HE01.png  \n",
            "  inflating: drawings/spiral/testing/healthy/V02HE01.png  \n",
            "  inflating: drawings/spiral/testing/healthy/V03HE1.png  \n",
            "  inflating: drawings/spiral/testing/healthy/V04HE01.png  \n",
            "  inflating: drawings/spiral/testing/healthy/V05HE01.png  \n",
            "  inflating: drawings/spiral/testing/healthy/V06HE01.png  \n",
            "  inflating: drawings/spiral/testing/healthy/V07HE01.png  \n",
            "  inflating: drawings/spiral/testing/healthy/V08HE01.png  \n",
            "  inflating: drawings/spiral/testing/healthy/V09HE01.png  \n",
            "  inflating: drawings/spiral/testing/healthy/V10HE01.png  \n",
            "  inflating: drawings/spiral/testing/healthy/V11HE01.png  \n",
            "  inflating: drawings/spiral/testing/healthy/V55HE12.png  \n",
            "  inflating: drawings/spiral/testing/healthy/V55HE13.png  \n",
            "  inflating: drawings/spiral/testing/healthy/V55HE14.png  \n",
            "  inflating: drawings/spiral/testing/healthy/V55HE15.png  \n",
            "  inflating: drawings/spiral/testing/parkinson/V01PE01.png  \n",
            "  inflating: drawings/spiral/testing/parkinson/V02PE01.png  \n",
            "  inflating: drawings/spiral/testing/parkinson/V03PE01.png  \n",
            "  inflating: drawings/spiral/testing/parkinson/V03PE04.png  \n",
            "  inflating: drawings/spiral/testing/parkinson/V03PE07.png  \n",
            "  inflating: drawings/spiral/testing/parkinson/V04PE01.png  \n",
            "  inflating: drawings/spiral/testing/parkinson/V05PE01.png  \n",
            "  inflating: drawings/spiral/testing/parkinson/V06PE01.png  \n",
            "  inflating: drawings/spiral/testing/parkinson/V07PE01.png  \n",
            "  inflating: drawings/spiral/testing/parkinson/V08PE01.png  \n",
            "  inflating: drawings/spiral/testing/parkinson/V09PE01.png  \n",
            "  inflating: drawings/spiral/testing/parkinson/V10PE03.png  \n",
            "  inflating: drawings/spiral/testing/parkinson/V11PE03.png  \n",
            "  inflating: drawings/spiral/testing/parkinson/V14PE03.png  \n",
            "  inflating: drawings/spiral/testing/parkinson/V15PE01.png  \n",
            "  inflating: drawings/spiral/training/healthy/V01HE02.png  \n",
            "  inflating: drawings/spiral/training/healthy/V01HE03.png  \n",
            "  inflating: drawings/spiral/training/healthy/V02HE02.png  \n",
            "  inflating: drawings/spiral/training/healthy/V02HE03.png  \n",
            "  inflating: drawings/spiral/training/healthy/V03HE2.png  \n",
            "  inflating: drawings/spiral/training/healthy/V03HE3.png  \n",
            "  inflating: drawings/spiral/training/healthy/V04HE02.png  \n",
            "  inflating: drawings/spiral/training/healthy/V04HE03.png  \n",
            "  inflating: drawings/spiral/training/healthy/V05HE02.png  \n",
            "  inflating: drawings/spiral/training/healthy/V05HE03.png  \n",
            "  inflating: drawings/spiral/training/healthy/V06HE02.png  \n",
            "  inflating: drawings/spiral/training/healthy/V06HE03.png  \n",
            "  inflating: drawings/spiral/training/healthy/V07HE02.png  \n",
            "  inflating: drawings/spiral/training/healthy/V07HE03.png  \n",
            "  inflating: drawings/spiral/training/healthy/V08HE02.png  \n",
            "  inflating: drawings/spiral/training/healthy/V08HE03.png  \n",
            "  inflating: drawings/spiral/training/healthy/V09HE02.png  \n",
            "  inflating: drawings/spiral/training/healthy/V09HE03.png  \n",
            "  inflating: drawings/spiral/training/healthy/V10HE02.png  \n",
            "  inflating: drawings/spiral/training/healthy/V10HE03.png  \n",
            "  inflating: drawings/spiral/training/healthy/V11HE02.png  \n",
            "  inflating: drawings/spiral/training/healthy/V11HE03.png  \n",
            "  inflating: drawings/spiral/training/healthy/V12HE01.png  \n",
            "  inflating: drawings/spiral/training/healthy/V12HE02.png  \n",
            "  inflating: drawings/spiral/training/healthy/V12HE03.png  \n",
            "  inflating: drawings/spiral/training/healthy/V55HE01.png  \n",
            "  inflating: drawings/spiral/training/healthy/V55HE02.png  \n",
            "  inflating: drawings/spiral/training/healthy/V55HE03.png  \n",
            "  inflating: drawings/spiral/training/healthy/V55HE04.png  \n",
            "  inflating: drawings/spiral/training/healthy/V55HE05.png  \n",
            "  inflating: drawings/spiral/training/healthy/V55HE06.png  \n",
            "  inflating: drawings/spiral/training/healthy/V55HE07.png  \n",
            "  inflating: drawings/spiral/training/healthy/V55HE08.png  \n",
            "  inflating: drawings/spiral/training/healthy/V55HE09.png  \n",
            "  inflating: drawings/spiral/training/healthy/V55HE10.png  \n",
            "  inflating: drawings/spiral/training/healthy/V55HE11.png  \n",
            "  inflating: drawings/spiral/training/parkinson/V01PE02.png  \n",
            "  inflating: drawings/spiral/training/parkinson/V01PE03.png  \n",
            "  inflating: drawings/spiral/training/parkinson/V02PE02.png  \n",
            "  inflating: drawings/spiral/training/parkinson/V02PE03.png  \n",
            "  inflating: drawings/spiral/training/parkinson/V03PE02.png  \n",
            "  inflating: drawings/spiral/training/parkinson/V03PE03.png  \n",
            "  inflating: drawings/spiral/training/parkinson/V03PE05.png  \n",
            "  inflating: drawings/spiral/training/parkinson/V03PE06.png  \n",
            "  inflating: drawings/spiral/training/parkinson/V03PE08.png  \n",
            "  inflating: drawings/spiral/training/parkinson/V03PE09.png  \n",
            "  inflating: drawings/spiral/training/parkinson/V04PE02.png  \n",
            "  inflating: drawings/spiral/training/parkinson/V04PE03.png  \n",
            "  inflating: drawings/spiral/training/parkinson/V05PE02.png  \n",
            "  inflating: drawings/spiral/training/parkinson/V05PE03.png  \n",
            "  inflating: drawings/spiral/training/parkinson/V06PE02.png  \n",
            "  inflating: drawings/spiral/training/parkinson/V06PE03.png  \n",
            "  inflating: drawings/spiral/training/parkinson/V07PE02.png  \n",
            "  inflating: drawings/spiral/training/parkinson/V07PE03.png  \n",
            "  inflating: drawings/spiral/training/parkinson/V08PE02.png  \n",
            "  inflating: drawings/spiral/training/parkinson/V08PE03.png  \n",
            "  inflating: drawings/spiral/training/parkinson/V09PE02.png  \n",
            "  inflating: drawings/spiral/training/parkinson/V09PE03.png  \n",
            "  inflating: drawings/spiral/training/parkinson/V10PE01.png  \n",
            "  inflating: drawings/spiral/training/parkinson/V10PE02.png  \n",
            "  inflating: drawings/spiral/training/parkinson/V11PE01.png  \n",
            "  inflating: drawings/spiral/training/parkinson/V11PE02.png  \n",
            "  inflating: drawings/spiral/training/parkinson/V12PE01.png  \n",
            "  inflating: drawings/spiral/training/parkinson/V12PE02.png  \n",
            "  inflating: drawings/spiral/training/parkinson/V12PE03.png  \n",
            "  inflating: drawings/spiral/training/parkinson/V13PE01.png  \n",
            "  inflating: drawings/spiral/training/parkinson/V13PE02.png  \n",
            "  inflating: drawings/spiral/training/parkinson/V13PE03.png  \n",
            "  inflating: drawings/spiral/training/parkinson/V14PE01.png  \n",
            "  inflating: drawings/spiral/training/parkinson/V14PE02.png  \n",
            "  inflating: drawings/spiral/training/parkinson/V15PE02.png  \n",
            "  inflating: drawings/spiral/training/parkinson/V15PE03.png  \n",
            "  inflating: drawings/wave/testing/healthy/V01HO01.png  \n",
            "  inflating: drawings/wave/testing/healthy/V02HO01.png  \n",
            "  inflating: drawings/wave/testing/healthy/V03HO01.png  \n",
            "  inflating: drawings/wave/testing/healthy/V04HO01.png  \n",
            "  inflating: drawings/wave/testing/healthy/V05HO01.png  \n",
            "  inflating: drawings/wave/testing/healthy/V06HO01.png  \n",
            "  inflating: drawings/wave/testing/healthy/V07HO01.png  \n",
            "  inflating: drawings/wave/testing/healthy/V08HO01.png  \n",
            "  inflating: drawings/wave/testing/healthy/V09HO01.png  \n",
            "  inflating: drawings/wave/testing/healthy/V10HO01.png  \n",
            "  inflating: drawings/wave/testing/healthy/V11HO01.png  \n",
            "  inflating: drawings/wave/testing/healthy/V55HO08.png  \n",
            "  inflating: drawings/wave/testing/healthy/V55HO09.png  \n",
            "  inflating: drawings/wave/testing/healthy/V55HO10.png  \n",
            "  inflating: drawings/wave/testing/healthy/V55HO11.png  \n",
            "  inflating: drawings/wave/testing/parkinson/V01PO01.png  \n",
            "  inflating: drawings/wave/testing/parkinson/V02PO01.png  \n",
            "  inflating: drawings/wave/testing/parkinson/V03PO01.png  \n",
            "  inflating: drawings/wave/testing/parkinson/V03PO04.png  \n",
            "  inflating: drawings/wave/testing/parkinson/V03PO07.png  \n",
            "  inflating: drawings/wave/testing/parkinson/V04PO01.png  \n",
            "  inflating: drawings/wave/testing/parkinson/V05PO01.png  \n",
            "  inflating: drawings/wave/testing/parkinson/V06PO01.png  \n",
            "  inflating: drawings/wave/testing/parkinson/V07PO01.png  \n",
            "  inflating: drawings/wave/testing/parkinson/V08PO01.png  \n",
            "  inflating: drawings/wave/testing/parkinson/V09PO01.png  \n",
            "  inflating: drawings/wave/testing/parkinson/V10PO01.png  \n",
            "  inflating: drawings/wave/testing/parkinson/V11PO01.png  \n",
            "  inflating: drawings/wave/testing/parkinson/V14PO01.png  \n",
            "  inflating: drawings/wave/testing/parkinson/V14PO03.png  \n",
            "  inflating: drawings/wave/training/healthy/V01HO02.png  \n",
            "  inflating: drawings/wave/training/healthy/V01HO03.png  \n",
            "  inflating: drawings/wave/training/healthy/V02HO02.png  \n",
            "  inflating: drawings/wave/training/healthy/V02HO03.png  \n",
            "  inflating: drawings/wave/training/healthy/V03HO02.png  \n",
            "  inflating: drawings/wave/training/healthy/V03HO03.png  \n",
            "  inflating: drawings/wave/training/healthy/V04HO02.png  \n",
            "  inflating: drawings/wave/training/healthy/V04HO03.png  \n",
            "  inflating: drawings/wave/training/healthy/V05HO02.png  \n",
            "  inflating: drawings/wave/training/healthy/V05HO03.png  \n",
            "  inflating: drawings/wave/training/healthy/V06HO02.png  \n",
            "  inflating: drawings/wave/training/healthy/V06HO03.png  \n",
            "  inflating: drawings/wave/training/healthy/V07HO02.png  \n",
            "  inflating: drawings/wave/training/healthy/V07HO03.png  \n",
            "  inflating: drawings/wave/training/healthy/V08HO02.png  \n",
            "  inflating: drawings/wave/training/healthy/V08HO03.png  \n",
            "  inflating: drawings/wave/training/healthy/V09HO02.png  \n",
            "  inflating: drawings/wave/training/healthy/V09HO03.png  \n",
            "  inflating: drawings/wave/training/healthy/V10HO02.png  \n",
            "  inflating: drawings/wave/training/healthy/V10HO03.png  \n",
            "  inflating: drawings/wave/training/healthy/V11HO02.png  \n",
            "  inflating: drawings/wave/training/healthy/V11HO03.png  \n",
            "  inflating: drawings/wave/training/healthy/V12HO01.png  \n",
            "  inflating: drawings/wave/training/healthy/V12HO02.png  \n",
            "  inflating: drawings/wave/training/healthy/V12HO03.png  \n",
            "  inflating: drawings/wave/training/healthy/V55HO01.png  \n",
            "  inflating: drawings/wave/training/healthy/V55HO02.png  \n",
            "  inflating: drawings/wave/training/healthy/V55HO03.png  \n",
            "  inflating: drawings/wave/training/healthy/V55HO04.png  \n",
            "  inflating: drawings/wave/training/healthy/V55HO05.png  \n",
            "  inflating: drawings/wave/training/healthy/V55HO06.png  \n",
            "  inflating: drawings/wave/training/healthy/V55HO07.png  \n",
            "  inflating: drawings/wave/training/healthy/V55HO12.png  \n",
            "  inflating: drawings/wave/training/healthy/V55HO13.png  \n",
            "  inflating: drawings/wave/training/healthy/V55HO14.png  \n",
            "  inflating: drawings/wave/training/healthy/V55HO15.png  \n",
            "  inflating: drawings/wave/training/parkinson/V01PO02.png  \n",
            "  inflating: drawings/wave/training/parkinson/V01PO03.png  \n",
            "  inflating: drawings/wave/training/parkinson/V02PO02.png  \n",
            "  inflating: drawings/wave/training/parkinson/V02PO03.png  \n",
            "  inflating: drawings/wave/training/parkinson/V03PO02.png  \n",
            "  inflating: drawings/wave/training/parkinson/V03PO03.png  \n",
            "  inflating: drawings/wave/training/parkinson/V03PO05.png  \n",
            "  inflating: drawings/wave/training/parkinson/V03PO06.png  \n",
            "  inflating: drawings/wave/training/parkinson/V03PO08.png  \n",
            "  inflating: drawings/wave/training/parkinson/V03PO09.png  \n",
            "  inflating: drawings/wave/training/parkinson/V04PO02.png  \n",
            "  inflating: drawings/wave/training/parkinson/V04PO03.png  \n",
            "  inflating: drawings/wave/training/parkinson/V05PO02.png  \n",
            "  inflating: drawings/wave/training/parkinson/V05PO03.png  \n",
            "  inflating: drawings/wave/training/parkinson/V06PO02.png  \n",
            "  inflating: drawings/wave/training/parkinson/V06PO03.png  \n",
            "  inflating: drawings/wave/training/parkinson/V07PO02.png  \n",
            "  inflating: drawings/wave/training/parkinson/V07PO03.png  \n",
            "  inflating: drawings/wave/training/parkinson/V08PO02.png  \n",
            "  inflating: drawings/wave/training/parkinson/V08PO03.png  \n",
            "  inflating: drawings/wave/training/parkinson/V09PO02.png  \n",
            "  inflating: drawings/wave/training/parkinson/V09PO03.png  \n",
            "  inflating: drawings/wave/training/parkinson/V10PO02.png  \n",
            "  inflating: drawings/wave/training/parkinson/V10PO03.png  \n",
            "  inflating: drawings/wave/training/parkinson/V11PO02.png  \n",
            "  inflating: drawings/wave/training/parkinson/V11PO03.png  \n",
            "  inflating: drawings/wave/training/parkinson/V12PO01.png  \n",
            "  inflating: drawings/wave/training/parkinson/V12PO02.png  \n",
            "  inflating: drawings/wave/training/parkinson/V12PO03.png  \n",
            "  inflating: drawings/wave/training/parkinson/V13PO01.png  \n",
            "  inflating: drawings/wave/training/parkinson/V13PO02.png  \n",
            "  inflating: drawings/wave/training/parkinson/V13PO03.png  \n",
            "  inflating: drawings/wave/training/parkinson/V14PO02.png  \n",
            "  inflating: drawings/wave/training/parkinson/V15PO01.png  \n",
            "  inflating: drawings/wave/training/parkinson/V15PO02.png  \n",
            "  inflating: drawings/wave/training/parkinson/V15PO03.png  \n",
            "  inflating: spiral/testing/healthy/V01HE01.png  \n",
            "  inflating: spiral/testing/healthy/V02HE01.png  \n",
            "  inflating: spiral/testing/healthy/V03HE1.png  \n",
            "  inflating: spiral/testing/healthy/V04HE01.png  \n",
            "  inflating: spiral/testing/healthy/V05HE01.png  \n",
            "  inflating: spiral/testing/healthy/V06HE01.png  \n",
            "  inflating: spiral/testing/healthy/V07HE01.png  \n",
            "  inflating: spiral/testing/healthy/V08HE01.png  \n",
            "  inflating: spiral/testing/healthy/V09HE01.png  \n",
            "  inflating: spiral/testing/healthy/V10HE01.png  \n",
            "  inflating: spiral/testing/healthy/V11HE01.png  \n",
            "  inflating: spiral/testing/healthy/V55HE12.png  \n",
            "  inflating: spiral/testing/healthy/V55HE13.png  \n",
            "  inflating: spiral/testing/healthy/V55HE14.png  \n",
            "  inflating: spiral/testing/healthy/V55HE15.png  \n",
            "  inflating: spiral/testing/parkinson/V01PE01.png  \n",
            "  inflating: spiral/testing/parkinson/V02PE01.png  \n",
            "  inflating: spiral/testing/parkinson/V03PE01.png  \n",
            "  inflating: spiral/testing/parkinson/V03PE04.png  \n",
            "  inflating: spiral/testing/parkinson/V03PE07.png  \n",
            "  inflating: spiral/testing/parkinson/V04PE01.png  \n",
            "  inflating: spiral/testing/parkinson/V05PE01.png  \n",
            "  inflating: spiral/testing/parkinson/V06PE01.png  \n",
            "  inflating: spiral/testing/parkinson/V07PE01.png  \n",
            "  inflating: spiral/testing/parkinson/V08PE01.png  \n",
            "  inflating: spiral/testing/parkinson/V09PE01.png  \n",
            "  inflating: spiral/testing/parkinson/V10PE03.png  \n",
            "  inflating: spiral/testing/parkinson/V11PE03.png  \n",
            "  inflating: spiral/testing/parkinson/V14PE03.png  \n",
            "  inflating: spiral/testing/parkinson/V15PE01.png  \n",
            "  inflating: spiral/training/healthy/V01HE02.png  \n",
            "  inflating: spiral/training/healthy/V01HE03.png  \n",
            "  inflating: spiral/training/healthy/V02HE02.png  \n",
            "  inflating: spiral/training/healthy/V02HE03.png  \n",
            "  inflating: spiral/training/healthy/V03HE2.png  \n",
            "  inflating: spiral/training/healthy/V03HE3.png  \n",
            "  inflating: spiral/training/healthy/V04HE02.png  \n",
            "  inflating: spiral/training/healthy/V04HE03.png  \n",
            "  inflating: spiral/training/healthy/V05HE02.png  \n",
            "  inflating: spiral/training/healthy/V05HE03.png  \n",
            "  inflating: spiral/training/healthy/V06HE02.png  \n",
            "  inflating: spiral/training/healthy/V06HE03.png  \n",
            "  inflating: spiral/training/healthy/V07HE02.png  \n",
            "  inflating: spiral/training/healthy/V07HE03.png  \n",
            "  inflating: spiral/training/healthy/V08HE02.png  \n",
            "  inflating: spiral/training/healthy/V08HE03.png  \n",
            "  inflating: spiral/training/healthy/V09HE02.png  \n",
            "  inflating: spiral/training/healthy/V09HE03.png  \n",
            "  inflating: spiral/training/healthy/V10HE02.png  \n",
            "  inflating: spiral/training/healthy/V10HE03.png  \n",
            "  inflating: spiral/training/healthy/V11HE02.png  \n",
            "  inflating: spiral/training/healthy/V11HE03.png  \n",
            "  inflating: spiral/training/healthy/V12HE01.png  \n",
            "  inflating: spiral/training/healthy/V12HE02.png  \n",
            "  inflating: spiral/training/healthy/V12HE03.png  \n",
            "  inflating: spiral/training/healthy/V55HE01.png  \n",
            "  inflating: spiral/training/healthy/V55HE02.png  \n",
            "  inflating: spiral/training/healthy/V55HE03.png  \n",
            "  inflating: spiral/training/healthy/V55HE04.png  \n",
            "  inflating: spiral/training/healthy/V55HE05.png  \n",
            "  inflating: spiral/training/healthy/V55HE06.png  \n",
            "  inflating: spiral/training/healthy/V55HE07.png  \n",
            "  inflating: spiral/training/healthy/V55HE08.png  \n",
            "  inflating: spiral/training/healthy/V55HE09.png  \n",
            "  inflating: spiral/training/healthy/V55HE10.png  \n",
            "  inflating: spiral/training/healthy/V55HE11.png  \n",
            "  inflating: spiral/training/parkinson/V01PE02.png  \n",
            "  inflating: spiral/training/parkinson/V01PE03.png  \n",
            "  inflating: spiral/training/parkinson/V02PE02.png  \n",
            "  inflating: spiral/training/parkinson/V02PE03.png  \n",
            "  inflating: spiral/training/parkinson/V03PE02.png  \n",
            "  inflating: spiral/training/parkinson/V03PE03.png  \n",
            "  inflating: spiral/training/parkinson/V03PE05.png  \n",
            "  inflating: spiral/training/parkinson/V03PE06.png  \n",
            "  inflating: spiral/training/parkinson/V03PE08.png  \n",
            "  inflating: spiral/training/parkinson/V03PE09.png  \n",
            "  inflating: spiral/training/parkinson/V04PE02.png  \n",
            "  inflating: spiral/training/parkinson/V04PE03.png  \n",
            "  inflating: spiral/training/parkinson/V05PE02.png  \n",
            "  inflating: spiral/training/parkinson/V05PE03.png  \n",
            "  inflating: spiral/training/parkinson/V06PE02.png  \n",
            "  inflating: spiral/training/parkinson/V06PE03.png  \n",
            "  inflating: spiral/training/parkinson/V07PE02.png  \n",
            "  inflating: spiral/training/parkinson/V07PE03.png  \n",
            "  inflating: spiral/training/parkinson/V08PE02.png  \n",
            "  inflating: spiral/training/parkinson/V08PE03.png  \n",
            "  inflating: spiral/training/parkinson/V09PE02.png  \n",
            "  inflating: spiral/training/parkinson/V09PE03.png  \n",
            "  inflating: spiral/training/parkinson/V10PE01.png  \n",
            "  inflating: spiral/training/parkinson/V10PE02.png  \n",
            "  inflating: spiral/training/parkinson/V11PE01.png  \n",
            "  inflating: spiral/training/parkinson/V11PE02.png  \n",
            "  inflating: spiral/training/parkinson/V12PE01.png  \n",
            "  inflating: spiral/training/parkinson/V12PE02.png  \n",
            "  inflating: spiral/training/parkinson/V12PE03.png  \n",
            "  inflating: spiral/training/parkinson/V13PE01.png  \n",
            "  inflating: spiral/training/parkinson/V13PE02.png  \n",
            "  inflating: spiral/training/parkinson/V13PE03.png  \n",
            "  inflating: spiral/training/parkinson/V14PE01.png  \n",
            "  inflating: spiral/training/parkinson/V14PE02.png  \n",
            "  inflating: spiral/training/parkinson/V15PE02.png  \n",
            "  inflating: spiral/training/parkinson/V15PE03.png  \n",
            "  inflating: wave/testing/healthy/V01HO01.png  \n",
            "  inflating: wave/testing/healthy/V02HO01.png  \n",
            "  inflating: wave/testing/healthy/V03HO01.png  \n",
            "  inflating: wave/testing/healthy/V04HO01.png  \n",
            "  inflating: wave/testing/healthy/V05HO01.png  \n",
            "  inflating: wave/testing/healthy/V06HO01.png  \n",
            "  inflating: wave/testing/healthy/V07HO01.png  \n",
            "  inflating: wave/testing/healthy/V08HO01.png  \n",
            "  inflating: wave/testing/healthy/V09HO01.png  \n",
            "  inflating: wave/testing/healthy/V10HO01.png  \n",
            "  inflating: wave/testing/healthy/V11HO01.png  \n",
            "  inflating: wave/testing/healthy/V55HO08.png  \n",
            "  inflating: wave/testing/healthy/V55HO09.png  \n",
            "  inflating: wave/testing/healthy/V55HO10.png  \n",
            "  inflating: wave/testing/healthy/V55HO11.png  \n",
            "  inflating: wave/testing/parkinson/V01PO01.png  \n",
            "  inflating: wave/testing/parkinson/V02PO01.png  \n",
            "  inflating: wave/testing/parkinson/V03PO01.png  \n",
            "  inflating: wave/testing/parkinson/V03PO04.png  \n",
            "  inflating: wave/testing/parkinson/V03PO07.png  \n",
            "  inflating: wave/testing/parkinson/V04PO01.png  \n",
            "  inflating: wave/testing/parkinson/V05PO01.png  \n",
            "  inflating: wave/testing/parkinson/V06PO01.png  \n",
            "  inflating: wave/testing/parkinson/V07PO01.png  \n",
            "  inflating: wave/testing/parkinson/V08PO01.png  \n",
            "  inflating: wave/testing/parkinson/V09PO01.png  \n",
            "  inflating: wave/testing/parkinson/V10PO01.png  \n",
            "  inflating: wave/testing/parkinson/V11PO01.png  \n",
            "  inflating: wave/testing/parkinson/V14PO01.png  \n",
            "  inflating: wave/testing/parkinson/V14PO03.png  \n",
            "  inflating: wave/training/healthy/V01HO02.png  \n",
            "  inflating: wave/training/healthy/V01HO03.png  \n",
            "  inflating: wave/training/healthy/V02HO02.png  \n",
            "  inflating: wave/training/healthy/V02HO03.png  \n",
            "  inflating: wave/training/healthy/V03HO02.png  \n",
            "  inflating: wave/training/healthy/V03HO03.png  \n",
            "  inflating: wave/training/healthy/V04HO02.png  \n",
            "  inflating: wave/training/healthy/V04HO03.png  \n",
            "  inflating: wave/training/healthy/V05HO02.png  \n",
            "  inflating: wave/training/healthy/V05HO03.png  \n",
            "  inflating: wave/training/healthy/V06HO02.png  \n",
            "  inflating: wave/training/healthy/V06HO03.png  \n",
            "  inflating: wave/training/healthy/V07HO02.png  \n",
            "  inflating: wave/training/healthy/V07HO03.png  \n",
            "  inflating: wave/training/healthy/V08HO02.png  \n",
            "  inflating: wave/training/healthy/V08HO03.png  \n",
            "  inflating: wave/training/healthy/V09HO02.png  \n",
            "  inflating: wave/training/healthy/V09HO03.png  \n",
            "  inflating: wave/training/healthy/V10HO02.png  \n",
            "  inflating: wave/training/healthy/V10HO03.png  \n",
            "  inflating: wave/training/healthy/V11HO02.png  \n",
            "  inflating: wave/training/healthy/V11HO03.png  \n",
            "  inflating: wave/training/healthy/V12HO01.png  \n",
            "  inflating: wave/training/healthy/V12HO02.png  \n",
            "  inflating: wave/training/healthy/V12HO03.png  \n",
            "  inflating: wave/training/healthy/V55HO01.png  \n",
            "  inflating: wave/training/healthy/V55HO02.png  \n",
            "  inflating: wave/training/healthy/V55HO03.png  \n",
            "  inflating: wave/training/healthy/V55HO04.png  \n",
            "  inflating: wave/training/healthy/V55HO05.png  \n",
            "  inflating: wave/training/healthy/V55HO06.png  \n",
            "  inflating: wave/training/healthy/V55HO07.png  \n",
            "  inflating: wave/training/healthy/V55HO12.png  \n",
            "  inflating: wave/training/healthy/V55HO13.png  \n",
            "  inflating: wave/training/healthy/V55HO14.png  \n",
            "  inflating: wave/training/healthy/V55HO15.png  \n",
            "  inflating: wave/training/parkinson/V01PO02.png  \n",
            "  inflating: wave/training/parkinson/V01PO03.png  \n",
            "  inflating: wave/training/parkinson/V02PO02.png  \n",
            "  inflating: wave/training/parkinson/V02PO03.png  \n",
            "  inflating: wave/training/parkinson/V03PO02.png  \n",
            "  inflating: wave/training/parkinson/V03PO03.png  \n",
            "  inflating: wave/training/parkinson/V03PO05.png  \n",
            "  inflating: wave/training/parkinson/V03PO06.png  \n",
            "  inflating: wave/training/parkinson/V03PO08.png  \n",
            "  inflating: wave/training/parkinson/V03PO09.png  \n",
            "  inflating: wave/training/parkinson/V04PO02.png  \n",
            "  inflating: wave/training/parkinson/V04PO03.png  \n",
            "  inflating: wave/training/parkinson/V05PO02.png  \n",
            "  inflating: wave/training/parkinson/V05PO03.png  \n",
            "  inflating: wave/training/parkinson/V06PO02.png  \n",
            "  inflating: wave/training/parkinson/V06PO03.png  \n",
            "  inflating: wave/training/parkinson/V07PO02.png  \n",
            "  inflating: wave/training/parkinson/V07PO03.png  \n",
            "  inflating: wave/training/parkinson/V08PO02.png  \n",
            "  inflating: wave/training/parkinson/V08PO03.png  \n",
            "  inflating: wave/training/parkinson/V09PO02.png  \n",
            "  inflating: wave/training/parkinson/V09PO03.png  \n",
            "  inflating: wave/training/parkinson/V10PO02.png  \n",
            "  inflating: wave/training/parkinson/V10PO03.png  \n",
            "  inflating: wave/training/parkinson/V11PO02.png  \n",
            "  inflating: wave/training/parkinson/V11PO03.png  \n",
            "  inflating: wave/training/parkinson/V12PO01.png  \n",
            "  inflating: wave/training/parkinson/V12PO02.png  \n",
            "  inflating: wave/training/parkinson/V12PO03.png  \n",
            "  inflating: wave/training/parkinson/V13PO01.png  \n",
            "  inflating: wave/training/parkinson/V13PO02.png  \n",
            "  inflating: wave/training/parkinson/V13PO03.png  \n",
            "  inflating: wave/training/parkinson/V14PO02.png  \n",
            "  inflating: wave/training/parkinson/V15PO01.png  \n",
            "  inflating: wave/training/parkinson/V15PO02.png  \n",
            "  inflating: wave/training/parkinson/V15PO03.png  \n"
          ],
          "name": "stdout"
        }
      ]
    },
    {
      "cell_type": "code",
      "metadata": {
        "id": "gr7ndybxpuvL"
      },
      "source": [
        "TRAINING_DIR = '/content/spiral/training'\n",
        "TESTING_DIR = '/content/spiral/testing'"
      ],
      "execution_count": 20,
      "outputs": []
    },
    {
      "cell_type": "code",
      "metadata": {
        "id": "CWQzPtu8-7oV"
      },
      "source": [
        "TARGET_SIZE = 128\n",
        "BATCH_SIZE = 64"
      ],
      "execution_count": 40,
      "outputs": []
    },
    {
      "cell_type": "code",
      "metadata": {
        "colab": {
          "base_uri": "https://localhost:8080/"
        },
        "id": "aDc9r6lllDjX",
        "outputId": "e6e5b77b-4d15-4c06-f3df-7e7ae616363d"
      },
      "source": [
        "\n",
        "train_datagen = ImageDataGenerator(\n",
        "    rescale=1 / 255,\n",
        "    rotation_range = 40,\n",
        "    width_shift_range=.2,\n",
        "    height_shift_range=.2,\n",
        "    shear_range=.2,\n",
        "    validation_split=0.1,\n",
        "    zoom_range=.2,\n",
        "    horizontal_flip=True,\n",
        "    fill_mode='nearest'\n",
        ")\n",
        "\n",
        "test_datagen = ImageDataGenerator(rescale=1./255)\n",
        "\n",
        "train_generator = train_datagen.flow_from_directory(\n",
        "    TRAINING_DIR,\n",
        "    batch_size = BATCH_SIZE,\n",
        "    class_mode='binary',\n",
        "    target_size = (TARGET_SIZE,TARGET_SIZE)\n",
        ")\n",
        "\n",
        "\n",
        "validation_generator = test_datagen.flow_from_directory(\n",
        "    TESTING_DIR,\n",
        "    batch_size = BATCH_SIZE,\n",
        "    class_mode='binary',\n",
        "    target_size=(TARGET_SIZE,TARGET_SIZE)\n",
        ")   "
      ],
      "execution_count": 41,
      "outputs": [
        {
          "output_type": "stream",
          "text": [
            "Found 72 images belonging to 2 classes.\n",
            "Found 30 images belonging to 2 classes.\n"
          ],
          "name": "stdout"
        }
      ]
    },
    {
      "cell_type": "code",
      "metadata": {
        "id": "chtdgZEcmKeB",
        "colab": {
          "base_uri": "https://localhost:8080/"
        },
        "outputId": "3fb00a09-5460-419b-a75a-0b77568e4ac2"
      },
      "source": [
        "from keras.callbacks import EarlyStopping, ModelCheckpoint,ReduceLROnPlateau\n",
        "earlyStopping = EarlyStopping(monitor = 'val_accuracy', patience = 20, verbose=0, mode='max')\n",
        "mcp_save_xc = ModelCheckpoint(filepath = 'mdl_wts.hdf5', save_best_only = True, monitor = 'val_accuracy', mode = 'max')\n",
        "mcp_save_ens = ModelCheckpoint(filepath = 'mdl_wts_en.h5', save_best_only = True, monitor = 'val_accuracy', mode = 'max')\n",
        "mcp_save_ens1 = ModelCheckpoint(filepath =' mdl_wts_en1.h5', save_best_only = True, monitor = 'val_loss', mode = 'min')\n",
        "reduce_lr_loss = ReduceLROnPlateau(monitor = 'val_loss', patience=2, verbose=1, min_delta = 1e-4, mode = 'min')"
      ],
      "execution_count": 80,
      "outputs": [
        {
          "output_type": "stream",
          "text": [
            "time: 4.36 ms (started: 2021-07-29 16:27:55 +00:00)\n"
          ],
          "name": "stdout"
        }
      ]
    },
    {
      "cell_type": "code",
      "metadata": {
        "id": "uUoKA6qj5Vye"
      },
      "source": [
        "from keras.applications.densenet import DenseNet201"
      ],
      "execution_count": 61,
      "outputs": []
    },
    {
      "cell_type": "code",
      "metadata": {
        "id": "6WczPFHyFYVX"
      },
      "source": [
        "pretrained_model3 = tf.keras.applications.DenseNet201(input_shape=(TARGET_SIZE,TARGET_SIZE,3),include_top=False,weights='imagenet',pooling='avg')"
      ],
      "execution_count": 67,
      "outputs": []
    },
    {
      "cell_type": "code",
      "metadata": {
        "id": "rSu_b9YXE_mc"
      },
      "source": [
        "pretrained_model3.trainable = False"
      ],
      "execution_count": 68,
      "outputs": []
    },
    {
      "cell_type": "code",
      "metadata": {
        "colab": {
          "base_uri": "https://localhost:8080/"
        },
        "id": "YvSM2mABFE24",
        "outputId": "c741de7c-a99e-4744-a372-b334102a4f99"
      },
      "source": [
        "inputs3 = pretrained_model3.input\n",
        "x3 = tf.keras.layers.Dense(128, activation='relu')(pretrained_model3.output)\n",
        "outputs3 = tf.keras.layers.Dense(1, activation='sigmoid')(x3)\n",
        "model3 = tf.keras.Model(inputs=inputs3, outputs=outputs3)"
      ],
      "execution_count": 81,
      "outputs": [
        {
          "output_type": "stream",
          "text": [
            "time: 56.1 ms (started: 2021-07-29 16:28:01 +00:00)\n"
          ],
          "name": "stdout"
        }
      ]
    },
    {
      "cell_type": "code",
      "metadata": {
        "colab": {
          "base_uri": "https://localhost:8080/"
        },
        "id": "l0jFxMVAFlm_",
        "outputId": "520ee99b-b9d5-498f-a3be-3c8308c9cdba"
      },
      "source": [
        "model3.compile(optimizer='adam',loss='binary_crossentropy',metrics=['accuracy'])"
      ],
      "execution_count": 82,
      "outputs": [
        {
          "output_type": "stream",
          "text": [
            "time: 17 ms (started: 2021-07-29 16:28:02 +00:00)\n"
          ],
          "name": "stdout"
        }
      ]
    },
    {
      "cell_type": "code",
      "metadata": {
        "colab": {
          "base_uri": "https://localhost:8080/"
        },
        "id": "U5eGAwONFQqA",
        "outputId": "33102de7-1b1e-456c-c299-281ce4e0afc4"
      },
      "source": [
        "history_own = model3.fit(\n",
        "      train_generator,  \n",
        "      callbacks = [mcp_save_xc, reduce_lr_loss,earlyStopping],\n",
        "      validation_data = validation_generator,\n",
        "      epochs = 50,\n",
        "      verbose = 1,\n",
        " )\n",
        "\n",
        "%load_ext autotime"
      ],
      "execution_count": 83,
      "outputs": [
        {
          "output_type": "stream",
          "text": [
            "Epoch 1/50\n",
            "2/2 [==============================] - 12s 3s/step - loss: 0.6281 - accuracy: 0.6389 - val_loss: 0.7796 - val_accuracy: 0.7000\n",
            "Epoch 2/50\n",
            "2/2 [==============================] - 1s 586ms/step - loss: 0.5275 - accuracy: 0.8194 - val_loss: 0.5932 - val_accuracy: 0.6000\n",
            "Epoch 3/50\n",
            "2/2 [==============================] - 1s 202ms/step - loss: 0.6200 - accuracy: 0.6250 - val_loss: 0.3966 - val_accuracy: 0.8667\n",
            "Epoch 4/50\n",
            "2/2 [==============================] - 1s 195ms/step - loss: 0.4927 - accuracy: 0.7778 - val_loss: 0.5291 - val_accuracy: 0.8000\n",
            "Epoch 5/50\n",
            "2/2 [==============================] - 1s 564ms/step - loss: 0.5854 - accuracy: 0.7361 - val_loss: 0.5362 - val_accuracy: 0.8000\n",
            "\n",
            "Epoch 00005: ReduceLROnPlateau reducing learning rate to 0.00010000000474974513.\n",
            "Epoch 6/50\n",
            "2/2 [==============================] - 1s 180ms/step - loss: 0.5580 - accuracy: 0.7222 - val_loss: 0.5018 - val_accuracy: 0.8000\n",
            "Epoch 7/50\n",
            "2/2 [==============================] - 1s 590ms/step - loss: 0.5025 - accuracy: 0.7639 - val_loss: 0.4634 - val_accuracy: 0.7667\n",
            "\n",
            "Epoch 00007: ReduceLROnPlateau reducing learning rate to 1.0000000474974514e-05.\n",
            "Epoch 8/50\n",
            "2/2 [==============================] - 1s 195ms/step - loss: 0.4512 - accuracy: 0.8056 - val_loss: 0.4595 - val_accuracy: 0.7667\n",
            "Epoch 9/50\n",
            "2/2 [==============================] - 1s 181ms/step - loss: 0.4420 - accuracy: 0.7639 - val_loss: 0.4555 - val_accuracy: 0.7667\n",
            "\n",
            "Epoch 00009: ReduceLROnPlateau reducing learning rate to 1.0000000656873453e-06.\n",
            "Epoch 10/50\n",
            "2/2 [==============================] - 1s 181ms/step - loss: 0.4809 - accuracy: 0.7500 - val_loss: 0.4551 - val_accuracy: 0.7667\n",
            "Epoch 11/50\n",
            "2/2 [==============================] - 1s 190ms/step - loss: 0.4592 - accuracy: 0.8056 - val_loss: 0.4546 - val_accuracy: 0.7667\n",
            "\n",
            "Epoch 00011: ReduceLROnPlateau reducing learning rate to 1.0000001111620805e-07.\n",
            "Epoch 12/50\n",
            "2/2 [==============================] - 1s 183ms/step - loss: 0.4154 - accuracy: 0.8056 - val_loss: 0.4546 - val_accuracy: 0.7667\n",
            "Epoch 13/50\n",
            "2/2 [==============================] - 1s 186ms/step - loss: 0.4404 - accuracy: 0.8194 - val_loss: 0.4545 - val_accuracy: 0.7667\n",
            "\n",
            "Epoch 00013: ReduceLROnPlateau reducing learning rate to 1.000000082740371e-08.\n",
            "Epoch 14/50\n",
            "2/2 [==============================] - 1s 191ms/step - loss: 0.4664 - accuracy: 0.7778 - val_loss: 0.4545 - val_accuracy: 0.7667\n",
            "Epoch 15/50\n",
            "2/2 [==============================] - 1s 576ms/step - loss: 0.4963 - accuracy: 0.7778 - val_loss: 0.4545 - val_accuracy: 0.7667\n",
            "\n",
            "Epoch 00015: ReduceLROnPlateau reducing learning rate to 1.000000082740371e-09.\n",
            "Epoch 16/50\n",
            "2/2 [==============================] - 1s 602ms/step - loss: 0.4742 - accuracy: 0.7639 - val_loss: 0.4545 - val_accuracy: 0.7667\n",
            "Epoch 17/50\n",
            "2/2 [==============================] - 1s 577ms/step - loss: 0.4459 - accuracy: 0.7917 - val_loss: 0.4545 - val_accuracy: 0.7667\n",
            "\n",
            "Epoch 00017: ReduceLROnPlateau reducing learning rate to 1.000000082740371e-10.\n",
            "Epoch 18/50\n",
            "2/2 [==============================] - 1s 578ms/step - loss: 0.4646 - accuracy: 0.7639 - val_loss: 0.4545 - val_accuracy: 0.7667\n",
            "Epoch 19/50\n",
            "2/2 [==============================] - 1s 588ms/step - loss: 0.4848 - accuracy: 0.7917 - val_loss: 0.4545 - val_accuracy: 0.7667\n",
            "\n",
            "Epoch 00019: ReduceLROnPlateau reducing learning rate to 1.000000082740371e-11.\n",
            "Epoch 20/50\n",
            "2/2 [==============================] - 1s 603ms/step - loss: 0.4697 - accuracy: 0.7639 - val_loss: 0.4545 - val_accuracy: 0.7667\n",
            "Epoch 21/50\n",
            "2/2 [==============================] - 1s 578ms/step - loss: 0.4615 - accuracy: 0.8056 - val_loss: 0.4545 - val_accuracy: 0.7667\n",
            "\n",
            "Epoch 00021: ReduceLROnPlateau reducing learning rate to 1.000000082740371e-12.\n",
            "Epoch 22/50\n",
            "2/2 [==============================] - 1s 582ms/step - loss: 0.4416 - accuracy: 0.7778 - val_loss: 0.4545 - val_accuracy: 0.7667\n",
            "Epoch 23/50\n",
            "2/2 [==============================] - 1s 188ms/step - loss: 0.4640 - accuracy: 0.8056 - val_loss: 0.4545 - val_accuracy: 0.7667\n",
            "\n",
            "Epoch 00023: ReduceLROnPlateau reducing learning rate to 1.0000001044244145e-13.\n",
            "The autotime extension is already loaded. To reload it, use:\n",
            "  %reload_ext autotime\n",
            "time: 30.2 s (started: 2021-07-29 16:28:02 +00:00)\n"
          ],
          "name": "stdout"
        }
      ]
    },
    {
      "cell_type": "code",
      "metadata": {
        "id": "-m9KLZRUFeLV"
      },
      "source": [
        ""
      ],
      "execution_count": null,
      "outputs": []
    }
  ]
}